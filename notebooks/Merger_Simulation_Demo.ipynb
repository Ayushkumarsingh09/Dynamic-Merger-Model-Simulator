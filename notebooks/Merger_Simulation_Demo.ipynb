{
 "cells": [
  {
   "cell_type": "code",
   "execution_count": null,
   "metadata": {},
   "outputs": [],
   "source": [
    "# Dynamic Merger Model Simulator - Demo Notebook\n",
    "import pandas as pd\n",
    "from src.financial_metrics import calculate_synergies, calculate_valuation\n",
    "from src.scenario_analysis import run_dynamic_scenario\n",
    "from src.visualization import plot_synergy_chart, plot_valuation_chart\n",
    "\n",
    "# Load data\n",
    "companies = pd.read_csv(\"../data/companies.csv\")\n",
    "scenarios = pd.read_json(\"../data/scenarios.json\")\n",
    "\n",
    "# Select a scenario for demo\n",
    "scenario = scenarios[\"scenarios\"][0]  # Optimistic Scenario\n",
    "\n",
    "# Adjust financials dynamically\n",
    "adjusted_companies = run_dynamic_scenario(companies.copy(), scenario)\n",
    "\n",
    "# Calculate synergies\n",
    "synergies = calculate_synergies(adjusted_companies, scenario)\n",
    "\n",
    "# Calculate valuation\n",
    "valuation = calculate_valuation(adjusted_companies, synergies)\n",
    "\n",
    "# Display results\n",
    "print(\"Adjusted Companies:\")\n",
    "print(adjusted_companies)\n",
    "\n",
    "print(\"\\nSynergies:\")\n",
    "print(synergies)\n",
    "\n",
    "print(\"\\nMerged Valuation:\")\n",
    "print(valuation)\n",
    "\n",
    "# Visualize results\n",
    "plot_synergy_chart(synergies, \"../data/outputs/charts/demo_synergy_chart.png\")\n",
    "plot_valuation_chart(valuation, \"../data/outputs/charts/demo_valuation_chart.png\")\n"
   ]
  }
 ],
 "metadata": {
  "language_info": {
   "name": "python"
  }
 },
 "nbformat": 4,
 "nbformat_minor": 2
}
