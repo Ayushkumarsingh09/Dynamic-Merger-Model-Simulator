{
 "cells": [
  {
   "cell_type": "code",
   "execution_count": null,
   "metadata": {},
   "outputs": [],
   "source": [
    "# Advanced Scenarios - Merger Simulation\n",
    "import pandas as pd\n",
    "from src.scenario_analysis import run_dynamic_scenario\n",
    "\n",
    "# Load data\n",
    "companies = pd.read_csv(\"../data/companies.csv\")\n",
    "scenarios = pd.read_json(\"../data/scenarios.json\")\n",
    "\n",
    "# Iterate through scenarios\n",
    "for scenario in scenarios[\"scenarios\"]:\n",
    "    print(f\"Running scenario: {scenario['name']}\")\n",
    "    adjusted_companies = run_dynamic_scenario(companies.copy(), scenario)\n",
    "    print(adjusted_companies)\n"
   ]
  }
 ],
 "metadata": {
  "language_info": {
   "name": "python"
  }
 },
 "nbformat": 4,
 "nbformat_minor": 2
}
